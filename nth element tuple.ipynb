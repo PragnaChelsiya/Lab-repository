{
 "cells": [
  {
   "cell_type": "code",
   "execution_count": 11,
   "id": "1cc8e3dd-413d-46a4-af9b-dc15fb7d2541",
   "metadata": {},
   "outputs": [
    {
     "name": "stdin",
     "output_type": "stream",
     "text": [
      "Enter a name: faceprep\n"
     ]
    },
    {
     "name": "stdout",
     "output_type": "stream",
     "text": [
      "faceprep\n",
      "e\n",
      "p\n"
     ]
    }
   ],
   "source": [
    "##tuple\n",
    "##4thelement and 4th from last of a tuple\n",
    "\n",
    "tuple =str(input(\"Enter a name:\"))\n",
    "print(tuple) # Print the contents of the 'tuplex' tuple\n",
    "element1 = tuple[3] # Get the 4th element of the tuple (index 3)\n",
    "print(element1)\n",
    "element2 = tuple[-4] # Get the 4th element from the end of the tuple (index -4)\n",
    "print(element2) \n",
    "\n"
   ]
  },
  {
   "cell_type": "code",
   "execution_count": null,
   "id": "901e03ac-76e3-4a04-a72b-8ec5c76a20ef",
   "metadata": {},
   "outputs": [],
   "source": []
  }
 ],
 "metadata": {
  "kernelspec": {
   "display_name": "Python 3 (ipykernel)",
   "language": "python",
   "name": "python3"
  },
  "language_info": {
   "codemirror_mode": {
    "name": "ipython",
    "version": 3
   },
   "file_extension": ".py",
   "mimetype": "text/x-python",
   "name": "python",
   "nbconvert_exporter": "python",
   "pygments_lexer": "ipython3",
   "version": "3.12.4"
  }
 },
 "nbformat": 4,
 "nbformat_minor": 5
}
