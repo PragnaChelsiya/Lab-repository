{
 "cells": [
  {
   "cell_type": "code",
   "execution_count": 15,
   "id": "8c957119-b3e8-4860-8c67-ea9581008a74",
   "metadata": {},
   "outputs": [
    {
     "name": "stdin",
     "output_type": "stream",
     "text": [
      "Enter a string:  Have a Nice Day\n"
     ]
    },
    {
     "name": "stdout",
     "output_type": "stream",
     "text": [
      "Number of uppercase letters: 1\n",
      "Number of lowercase letters: 4\n"
     ]
    }
   ],
   "source": [
    "# Function to count uppercase and lowercase characters\n",
    "def count_elements(s):\n",
    "    upper_count=0\n",
    "    lower_count=0\n",
    "    \n",
    "    for char in s:\n",
    "        if char.isupper():\n",
    "            upper_count += 1\n",
    "        elif char.islower():\n",
    "            lower_count += 1\n",
    "    return upper_count, lower_count\n",
    "\n",
    "s = input(\"Enter a string: \")\n",
    "\n",
    "\n",
    "upper_count, lower_count = count_elements(user_input)\n",
    "\n",
    "print(f\"Number of uppercase letters: {upper_count}\")\n",
    "print(f\"Number of lowercase letters: {lower_count}\")\n"
   ]
  },
  {
   "cell_type": "code",
   "execution_count": null,
   "id": "502c6f74-bb37-4ac8-a8ff-ed590c6f9757",
   "metadata": {},
   "outputs": [],
   "source": []
  }
 ],
 "metadata": {
  "kernelspec": {
   "display_name": "Python 3 (ipykernel)",
   "language": "python",
   "name": "python3"
  },
  "language_info": {
   "codemirror_mode": {
    "name": "ipython",
    "version": 3
   },
   "file_extension": ".py",
   "mimetype": "text/x-python",
   "name": "python",
   "nbconvert_exporter": "python",
   "pygments_lexer": "ipython3",
   "version": "3.12.4"
  }
 },
 "nbformat": 4,
 "nbformat_minor": 5
}
