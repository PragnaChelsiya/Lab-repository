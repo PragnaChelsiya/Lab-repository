{
 "cells": [
  {
   "cell_type": "code",
   "execution_count": 7,
   "id": "32d381ce-3641-4b72-8cfc-1382ee6a30b6",
   "metadata": {},
   "outputs": [
    {
     "name": "stdin",
     "output_type": "stream",
     "text": [
      " 1\n",
      " 9\n"
     ]
    },
    {
     "name": "stdout",
     "output_type": "stream",
     "text": [
      "1 yes,special number\n",
      "2 not\n",
      "3 not\n",
      "4 not\n",
      "5 not\n",
      "6 not\n",
      "7 not\n",
      "8 not\n",
      "9 not\n"
     ]
    }
   ],
   "source": [
    "n= int(input())\n",
    "m=int(input())\n",
    "for i in range (n,m+1):\n",
    "        first = i//10\n",
    "        second =1%10\n",
    "        sum= first+second\n",
    "        product= first*second\n",
    "\n",
    "        if (sum+product) == i:\n",
    "                print(i,\"yes,special number\")\n",
    "        else:\n",
    "                print(i,\"not\")\n"
   ]
  }
 ],
 "metadata": {
  "kernelspec": {
   "display_name": "Python 3 (ipykernel)",
   "language": "python",
   "name": "python3"
  },
  "language_info": {
   "codemirror_mode": {
    "name": "ipython",
    "version": 3
   },
   "file_extension": ".py",
   "mimetype": "text/x-python",
   "name": "python",
   "nbconvert_exporter": "python",
   "pygments_lexer": "ipython3",
   "version": "3.12.4"
  }
 },
 "nbformat": 4,
 "nbformat_minor": 5
}
