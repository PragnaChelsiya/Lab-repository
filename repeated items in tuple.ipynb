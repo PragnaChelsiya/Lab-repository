{
 "cells": [
  {
   "cell_type": "code",
   "execution_count": 1,
   "id": "33befb55-ac14-4dd0-b9d5-c04c8145ba73",
   "metadata": {},
   "outputs": [
    {
     "name": "stdout",
     "output_type": "stream",
     "text": [
      "(2, 4, 5, 6, 2, 3, 4, 4, 7)\n",
      "3\n"
     ]
    }
   ],
   "source": [
    "tuplex = 2, 4, 5, 6, 2, 3, 4, 4, 7\n",
    "print(tuplex)\n",
    "count = tuplex.count(4)\n",
    "print(count)"
   ]
  },
  {
   "cell_type": "code",
   "execution_count": 25,
   "id": "60b2389c-c676-4022-abcb-c8f8ba9af8c4",
   "metadata": {},
   "outputs": [
    {
     "name": "stdin",
     "output_type": "stream",
     "text": [
      "Enter number of Elements : 10\n",
      "Enter Elements : 2\n",
      "Enter Elements : 4\n",
      "Enter Elements : 5\n",
      "Enter Elements : 6\n",
      "Enter Elements : 2\n",
      "Enter Elements : 3\n",
      "Enter Elements : 4\n",
      "Enter Elements : 4\n",
      "Enter Elements : 7\n",
      "Enter Elements : \n"
     ]
    },
    {
     "name": "stdout",
     "output_type": "stream",
     "text": [
      "Tuple : ('2', '4', '5', '6', '2', '3', '4', '4', '7', '')\n"
     ]
    },
    {
     "name": "stdin",
     "output_type": "stream",
     "text": [
      "Enter element to search : 4\n"
     ]
    },
    {
     "name": "stdout",
     "output_type": "stream",
     "text": [
      "Count : 3\n"
     ]
    }
   ],
   "source": [
    "listt = []\n",
    "numbers= int(input(\"Enter number of Elements :\"))\n",
    "for i in range(numbers):\n",
    "    elements=input(\"Enter Elements :\")\n",
    "    listt.append(elements)\n",
    "tup = tuple(listt)\n",
    "print(\"Tuple :\", tup)\n",
    "character = input(\"Enter element to search :\")\n",
    "print(\"Count :\", tup.count(character))"
   ]
  },
  {
   "cell_type": "code",
   "execution_count": null,
   "id": "df1e666a-f944-48bb-9960-b904c75d956b",
   "metadata": {},
   "outputs": [],
   "source": []
  }
 ],
 "metadata": {
  "kernelspec": {
   "display_name": "Python 3 (ipykernel)",
   "language": "python",
   "name": "python3"
  },
  "language_info": {
   "codemirror_mode": {
    "name": "ipython",
    "version": 3
   },
   "file_extension": ".py",
   "mimetype": "text/x-python",
   "name": "python",
   "nbconvert_exporter": "python",
   "pygments_lexer": "ipython3",
   "version": "3.12.4"
  }
 },
 "nbformat": 4,
 "nbformat_minor": 5
}
