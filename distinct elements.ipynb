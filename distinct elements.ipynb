{
 "cells": [
  {
   "cell_type": "code",
   "execution_count": null,
   "id": "9a9fea5a-c009-4f99-b427-8172118bcb56",
   "metadata": {},
   "outputs": [],
   "source": [
    "n = int(input(\"Enter the number of elements in the list: \"))\n",
    "my_list = []\n",
    "for i in range(n):\n",
    "  element = int(input(\"Enter element : \"))\n",
    "  my_list.append(element)\n",
    "\n",
    "distinct_elements = []\n",
    "for element in my_list:\n",
    "  if element not in distinct_elements:\n",
    "    distinct_elements.append(element)\n",
    "\n",
    "num_distinct_elements = len(distinct_elements)\n",
    "print(\"The number of distinct elements in the list is:\",num_distinct_elements)"
   ]
  },
  {
   "cell_type": "code",
   "execution_count": null,
   "id": "6874316a-7a39-441b-baee-1aa4decc3166",
   "metadata": {},
   "outputs": [],
   "source": []
  }
 ],
 "metadata": {
  "kernelspec": {
   "display_name": "Python 3 (ipykernel)",
   "language": "python",
   "name": "python3"
  },
  "language_info": {
   "codemirror_mode": {
    "name": "ipython",
    "version": 3
   },
   "file_extension": ".py",
   "mimetype": "text/x-python",
   "name": "python",
   "nbconvert_exporter": "python",
   "pygments_lexer": "ipython3",
   "version": "3.12.4"
  }
 },
 "nbformat": 4,
 "nbformat_minor": 5
}
