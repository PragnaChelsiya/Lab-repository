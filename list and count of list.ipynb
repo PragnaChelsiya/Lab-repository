{
 "cells": [
  {
   "cell_type": "code",
   "execution_count": 9,
   "id": "62671602-0659-4f40-9d06-f59d70a59379",
   "metadata": {},
   "outputs": [
    {
     "name": "stdout",
     "output_type": "stream",
     "text": [
      "[2, 3.8, (4+7j), 'python']\n"
     ]
    }
   ],
   "source": [
    "n=[2,3.8,4+7j,\"python\"]\n",
    "print(n)"
   ]
  },
  {
   "cell_type": "code",
   "execution_count": 11,
   "id": "cd7d2cd8-8d48-498e-9531-1f417e98faf7",
   "metadata": {},
   "outputs": [
    {
     "name": "stdout",
     "output_type": "stream",
     "text": [
      "[1, 2, 3, 4]\n"
     ]
    }
   ],
   "source": [
    "num=[1,2,3,4]\n",
    "print(num)"
   ]
  },
  {
   "cell_type": "code",
   "execution_count": 15,
   "id": "ab2cf31a-267c-4335-add5-79945fb19dd4",
   "metadata": {},
   "outputs": [
    {
     "name": "stdout",
     "output_type": "stream",
     "text": [
      "[2.4, 55.6, 4.8]\n"
     ]
    }
   ],
   "source": [
    "num=[2.4,55.6,4.8]\n",
    "print(num)"
   ]
  },
  {
   "cell_type": "code",
   "execution_count": 17,
   "id": "003094cf-2925-438a-a006-95be4253a8dd",
   "metadata": {},
   "outputs": [
    {
     "name": "stdout",
     "output_type": "stream",
     "text": [
      "['a', 'b', 'c', 'd']\n"
     ]
    }
   ],
   "source": [
    "letter=['a','b','c','d']\n",
    "print(letter)"
   ]
  },
  {
   "cell_type": "code",
   "execution_count": 19,
   "id": "9e2e93bf-b74c-4cd8-827f-383a84480ef6",
   "metadata": {},
   "outputs": [
    {
     "name": "stdout",
     "output_type": "stream",
     "text": [
      "[1, 23.6, 'a', 'python']\n"
     ]
    }
   ],
   "source": [
    "mix=[1,23.6,'a',\"python\"]\n",
    "print(mix)"
   ]
  },
  {
   "cell_type": "code",
   "execution_count": 21,
   "id": "10ecf7fc-9f3c-4898-8e47-94893f79e820",
   "metadata": {},
   "outputs": [
    {
     "data": {
      "text/plain": [
       "4"
      ]
     },
     "execution_count": 21,
     "metadata": {},
     "output_type": "execute_result"
    }
   ],
   "source": [
    "mix=[1,23.6,'a',\"python\"]\n",
    "len(mix)"
   ]
  },
  {
   "cell_type": "code",
   "execution_count": 15,
   "id": "9bc444b5-f641-41de-a404-6afa0ec99a4b",
   "metadata": {},
   "outputs": [
    {
     "name": "stdout",
     "output_type": "stream",
     "text": [
      "10 20 30 40 "
     ]
    }
   ],
   "source": [
    "x=10,20,30,40\n",
    "for i in x:\n",
    "    print(i,end=\" \")"
   ]
  },
  {
   "cell_type": "code",
   "execution_count": 42,
   "id": "57cd1ce4-a214-40d0-b4f8-d6e2f145b903",
   "metadata": {},
   "outputs": [
    {
     "name": "stdout",
     "output_type": "stream",
     "text": [
      "value not found\n"
     ]
    }
   ],
   "source": [
    "x=10,20,30,40\n",
    "for i in x:\n",
    "    if i==50:\n",
    "        print(\"value found\")\n",
    "        break\n",
    "\n",
    "else:\n",
    "    print(\"value not found\")"
   ]
  },
  {
   "cell_type": "code",
   "execution_count": 56,
   "id": "0c69b48b-3062-450b-a60b-ca71b0543ffd",
   "metadata": {},
   "outputs": [
    {
     "name": "stdout",
     "output_type": "stream",
     "text": [
      "yes\n"
     ]
    }
   ],
   "source": [
    "if 30 in x:\n",
    "    print(\"yes\")\n",
    "\n",
    "else:\n",
    "    print(\"no\")"
   ]
  },
  {
   "cell_type": "code",
   "execution_count": 52,
   "id": "d9f16ce8-ae87-4900-af8c-8e49dd498999",
   "metadata": {},
   "outputs": [
    {
     "name": "stdout",
     "output_type": "stream",
     "text": [
      "2\n"
     ]
    }
   ],
   "source": [
    "###find the index value of a n umber 30 in list a(a==[10,20,30,40])\n",
    "for i in range(len(a)):\n",
    "    if a[i]==30:\n",
    "        print(i)\n",
    "        break\n"
   ]
  },
  {
   "cell_type": "code",
   "execution_count": 60,
   "id": "ddd85f02-3257-4847-93d6-c3a6e45fdb88",
   "metadata": {},
   "outputs": [
    {
     "name": "stdout",
     "output_type": "stream",
     "text": [
      "7\n"
     ]
    }
   ],
   "source": [
    "##index value of 80?\n",
    "########0 1  2  3  4  5  6  7\n",
    "items=[10,20,30,40,50,60,70,80]\n",
    "print(items.index(80))"
   ]
  },
  {
   "cell_type": "code",
   "execution_count": 64,
   "id": "027b102b-07c0-44ef-89ef-9e94de257af2",
   "metadata": {},
   "outputs": [],
   "source": [
    "###empty list\n",
    "elements=[]"
   ]
  },
  {
   "cell_type": "code",
   "execution_count": 66,
   "id": "1bbb215f-dc5b-410e-a2fe-b69d320ceb2b",
   "metadata": {},
   "outputs": [
    {
     "data": {
      "text/plain": [
       "[]"
      ]
     },
     "execution_count": 66,
     "metadata": {},
     "output_type": "execute_result"
    }
   ],
   "source": [
    "elements"
   ]
  },
  {
   "cell_type": "code",
   "execution_count": 68,
   "id": "53b4a4e5-e690-4d99-94d5-d3591f99f4e7",
   "metadata": {},
   "outputs": [
    {
     "name": "stdout",
     "output_type": "stream",
     "text": [
      "[10, 20, 30, 40, 50]\n"
     ]
    }
   ],
   "source": [
    "####create a list with values integers\n",
    "num=[10,20,30,40,50]\n",
    "print(num)"
   ]
  },
  {
   "cell_type": "code",
   "execution_count": 70,
   "id": "76ea4654-e1ec-41ec-8590-13926f5e1420",
   "metadata": {},
   "outputs": [
    {
     "name": "stdout",
     "output_type": "stream",
     "text": [
      "[9.6, 5.7, 8.9, 3.5]\n"
     ]
    }
   ],
   "source": [
    "####create a list with values float values\n",
    "num=[9.6,5.7,8.9,3.5]\n",
    "print(num)"
   ]
  },
  {
   "cell_type": "code",
   "execution_count": 72,
   "id": "76561728-a669-4e37-b306-c0a1acc12589",
   "metadata": {},
   "outputs": [
    {
     "name": "stdout",
     "output_type": "stream",
     "text": [
      "['a', 'b', 'c', 'd']\n"
     ]
    }
   ],
   "source": [
    "###character list\n",
    "character=['a','b','c','d']\n",
    "print(character)"
   ]
  },
  {
   "cell_type": "code",
   "execution_count": 74,
   "id": "55678f9d-d9db-4f28-91ac-83d46f2cdfff",
   "metadata": {},
   "outputs": [
    {
     "name": "stdout",
     "output_type": "stream",
     "text": [
      "['python', 'list', 'hello']\n"
     ]
    }
   ],
   "source": [
    "##create a string list and print it\n",
    "\n",
    "string=['python','list',\"hello\"]\n",
    "print(string)"
   ]
  },
  {
   "cell_type": "code",
   "execution_count": 80,
   "id": "1da40569-26cc-4d02-8e2e-309be9271138",
   "metadata": {},
   "outputs": [
    {
     "name": "stdout",
     "output_type": "stream",
     "text": [
      "[1, 'ABC', 43.6, 'PRAGNA', 'a']\n"
     ]
    }
   ],
   "source": [
    "information=[1,'ABC',43.6,'PRAGNA','a']\n",
    "print(information)"
   ]
  },
  {
   "cell_type": "code",
   "execution_count": 82,
   "id": "fbaf168c-4937-410f-8002-b646996aeb16",
   "metadata": {},
   "outputs": [
    {
     "data": {
      "text/plain": [
       "'ABC'"
      ]
     },
     "execution_count": 82,
     "metadata": {},
     "output_type": "execute_result"
    }
   ],
   "source": [
    "###particular element in the list\n",
    "information[1]"
   ]
  },
  {
   "cell_type": "code",
   "execution_count": 84,
   "id": "8f78a3ef-cfa3-45d8-a6b0-ea6d2ccf2d68",
   "metadata": {},
   "outputs": [
    {
     "data": {
      "text/plain": [
       "1"
      ]
     },
     "execution_count": 84,
     "metadata": {},
     "output_type": "execute_result"
    }
   ],
   "source": [
    "information[0]"
   ]
  },
  {
   "cell_type": "code",
   "execution_count": null,
   "id": "10e2b3f4-4c78-4514-89ef-6b66f7efac76",
   "metadata": {},
   "outputs": [],
   "source": [
    "informaton[1]=\"XYZ\""
   ]
  },
  {
   "cell_type": "code",
   "execution_count": 104,
   "id": "a4251ec5-8450-47d3-86f3-7f20a994e1ed",
   "metadata": {},
   "outputs": [
    {
     "data": {
      "text/plain": [
       "'XYZ'"
      ]
     },
     "execution_count": 104,
     "metadata": {},
     "output_type": "execute_result"
    }
   ],
   "source": [
    "informaton"
   ]
  },
  {
   "cell_type": "code",
   "execution_count": 106,
   "id": "1de550ee-d095-43b5-80c4-b5e5abdc8653",
   "metadata": {},
   "outputs": [],
   "source": [
    "information += \"hello\""
   ]
  },
  {
   "cell_type": "code",
   "execution_count": 108,
   "id": "196e2aa8-0456-41f3-9841-1e7bcba36cec",
   "metadata": {},
   "outputs": [
    {
     "data": {
      "text/plain": [
       "[1, 'ABC', 43.6, 'PRAGNA', 'a', 'h', 'e', 'l', 'l', 'o']"
      ]
     },
     "execution_count": 108,
     "metadata": {},
     "output_type": "execute_result"
    }
   ],
   "source": [
    "information"
   ]
  },
  {
   "cell_type": "code",
   "execution_count": null,
   "id": "1bea8da2-33b6-44aa-9c6d-f6aac1455ae5",
   "metadata": {},
   "outputs": [],
   "source": [
    "information*= 2"
   ]
  },
  {
   "cell_type": "code",
   "execution_count": null,
   "id": "05566acf-3219-4a04-b006-d577ce1ecd95",
   "metadata": {},
   "outputs": [],
   "source": [
    "information"
   ]
  },
  {
   "cell_type": "code",
   "execution_count": 15,
   "id": "f33e9aef-59b9-4f3a-84e2-a0b0ca005200",
   "metadata": {},
   "outputs": [
    {
     "ename": "NameError",
     "evalue": "name 'information' is not defined",
     "output_type": "error",
     "traceback": [
      "\u001b[1;31m---------------------------------------------------------------------------\u001b[0m",
      "\u001b[1;31mNameError\u001b[0m                                 Traceback (most recent call last)",
      "Cell \u001b[1;32mIn[15], line 2\u001b[0m\n\u001b[0;32m      1\u001b[0m \u001b[38;5;66;03m##slicing\u001b[39;00m\n\u001b[1;32m----> 2\u001b[0m information[\u001b[38;5;241m0\u001b[39m:\u001b[38;5;241m3\u001b[39m]\n",
      "\u001b[1;31mNameError\u001b[0m: name 'information' is not defined"
     ]
    }
   ],
   "source": [
    "##slicing\n",
    "information[0:3]"
   ]
  },
  {
   "cell_type": "code",
   "execution_count": null,
   "id": "6db1071b-5a53-4987-a0ab-ce753de086e8",
   "metadata": {},
   "outputs": [],
   "source": []
  }
 ],
 "metadata": {
  "kernelspec": {
   "display_name": "Python 3 (ipykernel)",
   "language": "python",
   "name": "python3"
  },
  "language_info": {
   "codemirror_mode": {
    "name": "ipython",
    "version": 3
   },
   "file_extension": ".py",
   "mimetype": "text/x-python",
   "name": "python",
   "nbconvert_exporter": "python",
   "pygments_lexer": "ipython3",
   "version": "3.12.4"
  }
 },
 "nbformat": 4,
 "nbformat_minor": 5
}
