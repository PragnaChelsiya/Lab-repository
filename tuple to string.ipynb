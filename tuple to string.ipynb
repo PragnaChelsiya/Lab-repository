{
 "cells": [
  {
   "cell_type": "code",
   "execution_count": 3,
   "id": "656b0f50-ab28-4293-bede-56ceeb18a169",
   "metadata": {},
   "outputs": [
    {
     "name": "stdin",
     "output_type": "stream",
     "text": [
      " exercise\n"
     ]
    },
    {
     "name": "stdout",
     "output_type": "stream",
     "text": [
      "e,x,e,r,c,i,s,e\n"
     ]
    }
   ],
   "source": [
    "input_tuple = str(input())\n",
    "result_string = ','.join(map(str, input_tuple))\n",
    "print(result_string)"
   ]
  },
  {
   "cell_type": "code",
   "execution_count": 5,
   "id": "44d5e73a-3441-41b2-9ed3-f6227401a720",
   "metadata": {},
   "outputs": [
    {
     "name": "stdin",
     "output_type": "stream",
     "text": [
      " exercise\n"
     ]
    },
    {
     "name": "stdout",
     "output_type": "stream",
     "text": [
      "('e', 'x', 'e', 'r', 'c', 'i', 's', 'e')\n"
     ]
    }
   ],
   "source": [
    "n=tuple(input())\n",
    "string=(tuple(n))\n",
    "print(string)"
   ]
  },
  {
   "cell_type": "code",
   "execution_count": null,
   "id": "c9c7d3c6-d194-479e-a109-a31f3ffb9cfc",
   "metadata": {},
   "outputs": [],
   "source": []
  }
 ],
 "metadata": {
  "kernelspec": {
   "display_name": "Python 3 (ipykernel)",
   "language": "python",
   "name": "python3"
  },
  "language_info": {
   "codemirror_mode": {
    "name": "ipython",
    "version": 3
   },
   "file_extension": ".py",
   "mimetype": "text/x-python",
   "name": "python",
   "nbconvert_exporter": "python",
   "pygments_lexer": "ipython3",
   "version": "3.12.4"
  }
 },
 "nbformat": 4,
 "nbformat_minor": 5
}
