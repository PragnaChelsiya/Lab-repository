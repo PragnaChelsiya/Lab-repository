{
 "cells": [
  {
   "cell_type": "code",
   "execution_count": 11,
   "id": "253b0cf6-300f-416c-9ea9-792530f0e9ae",
   "metadata": {},
   "outputs": [
    {
     "name": "stdin",
     "output_type": "stream",
     "text": [
      " 5\n",
      " 34\n",
      " 56\n",
      " 78\n",
      " 98\n",
      " 90\n"
     ]
    },
    {
     "name": "stdout",
     "output_type": "stream",
     "text": [
      "71.2\n"
     ]
    }
   ],
   "source": [
    "n = int(input())\n",
    "my_list = []\n",
    "for i in range(n):\n",
    "  element = int(input())\n",
    "  my_list.append(element)\n",
    "    \n",
    "print(sum(my_list)/len(my_list))"
   ]
  },
  {
   "cell_type": "code",
   "execution_count": null,
   "id": "cac4fc66-0219-4c7e-92ec-6f4fa3f946d7",
   "metadata": {},
   "outputs": [],
   "source": []
  }
 ],
 "metadata": {
  "kernelspec": {
   "display_name": "Python 3 (ipykernel)",
   "language": "python",
   "name": "python3"
  },
  "language_info": {
   "codemirror_mode": {
    "name": "ipython",
    "version": 3
   },
   "file_extension": ".py",
   "mimetype": "text/x-python",
   "name": "python",
   "nbconvert_exporter": "python",
   "pygments_lexer": "ipython3",
   "version": "3.12.4"
  }
 },
 "nbformat": 4,
 "nbformat_minor": 5
}
