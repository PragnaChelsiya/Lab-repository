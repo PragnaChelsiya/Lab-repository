{
 "cells": [
  {
   "cell_type": "code",
   "execution_count": 3,
   "id": "0bd35ed1-da98-481e-b7a8-1a335c512f8a",
   "metadata": {},
   "outputs": [
    {
     "name": "stdin",
     "output_type": "stream",
     "text": [
      "Enter the age :  20\n",
      "Enter the Show Timming :  10.30\n"
     ]
    },
    {
     "name": "stdout",
     "output_type": "stream",
     "text": [
      "Adult Price is $8.00\n"
     ]
    }
   ],
   "source": [
    "a=int(input(\"Enter the age : \"))\n",
    "b=float(input(\"Enter the Show Timming : \"))\n",
    "if b<=24:\n",
    "  if a>13 and b<=13.30:\n",
    "    print(\"Adult Price is $8.00\")\n",
    "      \n",
    "  elif a<=13 and b<=13.30:\n",
    "    print(\"Childen Price is $4.00\")\n",
    "      \n",
    "  elif a>=13 and b>13.30:\n",
    "    print(\"Adult Price is $5.00\")\n",
    "      \n",
    "  elif a<=13 and b>13.30:\n",
    "    print(\"Childen Price is $2.00\")\n",
    "      \n",
    "else:\n",
    "      print(\"Invalid Input\")"
   ]
  },
  {
   "cell_type": "code",
   "execution_count": 13,
   "id": "f8331e1f-cedf-4b58-8736-0c0d6a8697cb",
   "metadata": {},
   "outputs": [
    {
     "name": "stdin",
     "output_type": "stream",
     "text": [
      "enter your age 19\n",
      "enter the movie time 10.15,13.30,18.00,22.00 18.00\n"
     ]
    },
    {
     "name": "stdout",
     "output_type": "stream",
     "text": [
      "$8\n",
      "invalid input\n"
     ]
    }
   ],
   "source": [
    "a=int(input(\"enter your age\"))\n",
    "mt=float(input(\"enter the movie time 10.15,13.30,18.00,22.00\"))\n",
    "\n",
    "if(mt==10,15 or mt==13.30)and a>13:\n",
    "    print(\"$8\")\n",
    "elif(mt==18.00 or mt==22.00) and a>13:\n",
    "    print(\"$5\")\n",
    "if(mt==10,15 or mt==13.30)and a<13:\n",
    "    print(\"$4\")\n",
    "elif(mt==18.00 or mt==22.00) and a<13:\n",
    "    print(\"$2\")\n",
    "\n",
    "else:\n",
    "    print(\"invalid input\")"
   ]
  },
  {
   "cell_type": "code",
   "execution_count": null,
   "id": "1adaeff7-fa40-4613-951c-da88c9687dd9",
   "metadata": {},
   "outputs": [],
   "source": []
  }
 ],
 "metadata": {
  "kernelspec": {
   "display_name": "Python 3 (ipykernel)",
   "language": "python",
   "name": "python3"
  },
  "language_info": {
   "codemirror_mode": {
    "name": "ipython",
    "version": 3
   },
   "file_extension": ".py",
   "mimetype": "text/x-python",
   "name": "python",
   "nbconvert_exporter": "python",
   "pygments_lexer": "ipython3",
   "version": "3.12.4"
  }
 },
 "nbformat": 4,
 "nbformat_minor": 5
}
