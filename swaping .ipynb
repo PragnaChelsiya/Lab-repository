{
 "cells": [
  {
   "cell_type": "code",
   "execution_count": 1,
   "id": "dd8ce2d6-9a85-46b1-9db9-af3c512986b8",
   "metadata": {},
   "outputs": [
    {
     "name": "stdin",
     "output_type": "stream",
     "text": [
      "enter the number:  10\n",
      "enter the number:  5\n"
     ]
    },
    {
     "name": "stdout",
     "output_type": "stream",
     "text": [
      "10 5\n",
      "5 10\n"
     ]
    }
   ],
   "source": [
    "a=int(input(\"enter the number: \"))\n",
    "b=int(input(\"enter the number: \"))\n",
    "print(a,b)\n",
    "temp=a\n",
    "a=b\n",
    "b=temp\n",
    "print(a,b)"
   ]
  },
  {
   "cell_type": "code",
   "execution_count": null,
   "id": "cad915d3-689c-4fb5-8413-342be7c11d34",
   "metadata": {},
   "outputs": [],
   "source": []
  }
 ],
 "metadata": {
  "kernelspec": {
   "display_name": "Python 3 (ipykernel)",
   "language": "python",
   "name": "python3"
  },
  "language_info": {
   "codemirror_mode": {
    "name": "ipython",
    "version": 3
   },
   "file_extension": ".py",
   "mimetype": "text/x-python",
   "name": "python",
   "nbconvert_exporter": "python",
   "pygments_lexer": "ipython3",
   "version": "3.12.4"
  }
 },
 "nbformat": 4,
 "nbformat_minor": 5
}
