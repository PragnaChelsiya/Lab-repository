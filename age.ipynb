{
 "cells": [
  {
   "cell_type": "code",
   "execution_count": 25,
   "id": "53624c1a-3e94-4981-ad1f-768184f4a4d5",
   "metadata": {},
   "outputs": [
    {
     "name": "stdin",
     "output_type": "stream",
     "text": [
      " 64\n",
      " 00\n"
     ]
    },
    {
     "name": "stdout",
     "output_type": "stream",
     "text": [
      "36\n"
     ]
    }
   ],
   "source": [
    "b_yr=int(input())\n",
    "c_yr=int(input())\n",
    "\n",
    "if b_yr>c_yr:\n",
    "    print ((100-b_yr)+c_yr)\n",
    "\n",
    "else:\n",
    "    print(c_yr - b_yr)"
   ]
  },
  {
   "cell_type": "code",
   "execution_count": 23,
   "id": "479221ee-ace8-403e-bcd5-3889f5cd5e45",
   "metadata": {},
   "outputs": [
    {
     "name": "stdin",
     "output_type": "stream",
     "text": [
      " 64\n",
      " 00\n"
     ]
    },
    {
     "name": "stdout",
     "output_type": "stream",
     "text": [
      "36\n"
     ]
    }
   ],
   "source": [
    "b_yr=int(input())\n",
    "c_yr=int(input())\n",
    "\n",
    "age=c_yr-b_yr\n",
    "\n",
    "if c_yr<b_yr:\n",
    "    age +=100\n",
    "print(age)"
   ]
  },
  {
   "cell_type": "code",
   "execution_count": null,
   "id": "057ff4d2-24e3-4099-8c92-a086a65d1828",
   "metadata": {},
   "outputs": [],
   "source": []
  }
 ],
 "metadata": {
  "kernelspec": {
   "display_name": "Python 3 (ipykernel)",
   "language": "python",
   "name": "python3"
  },
  "language_info": {
   "codemirror_mode": {
    "name": "ipython",
    "version": 3
   },
   "file_extension": ".py",
   "mimetype": "text/x-python",
   "name": "python",
   "nbconvert_exporter": "python",
   "pygments_lexer": "ipython3",
   "version": "3.12.4"
  }
 },
 "nbformat": 4,
 "nbformat_minor": 5
}
