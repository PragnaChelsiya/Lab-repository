{
 "cells": [
  {
   "cell_type": "code",
   "execution_count": null,
   "id": "fb8ffe38-f89a-48d0-afdb-5dcc26e65950",
   "metadata": {},
   "outputs": [],
   "source": [
    "L1 = int(input(\"Enter the seating capacity of L1: \"))\n",
    "L2 = int(input(\"Enter the seating capacity of L2: \"))\n",
    "L3 = int(input(\"Enter the seating capacity of L3: \"))\n",
    "L4 = input(\"Enter the lab which is allocated for FACE training: \")\n",
    "\n",
    "if L4 == \"L1\":\n",
    "  out = min(L2, L3)\n",
    "  if out == L2:\n",
    "    print(\"L2\")  \n",
    "  else:\n",
    "    print(\"L3\")\n",
    "elif L4 == \"L2\":\n",
    "  out = min(L1, L3)\n",
    "  if out == L1:\n",
    "    print(\"L1\")\n",
    "  else:\n",
    "    print(\"L3\")\n",
    "elif L4 == \"L3\":\n",
    "  out = min(L1, L2)\n",
    "  if out == L1:\n",
    "    print(\"L1\")\n",
    "  else:\n",
    "    print(\"L2\")\n",
    "else:\n",
    "  print(\"Invalid input\")"
   ]
  },
  {
   "cell_type": "code",
   "execution_count": null,
   "id": "d70b6cd9-ad4c-455d-bdda-0de344d32789",
   "metadata": {},
   "outputs": [],
   "source": []
  }
 ],
 "metadata": {
  "kernelspec": {
   "display_name": "Python 3 (ipykernel)",
   "language": "python",
   "name": "python3"
  },
  "language_info": {
   "codemirror_mode": {
    "name": "ipython",
    "version": 3
   },
   "file_extension": ".py",
   "mimetype": "text/x-python",
   "name": "python",
   "nbconvert_exporter": "python",
   "pygments_lexer": "ipython3",
   "version": "3.12.4"
  }
 },
 "nbformat": 4,
 "nbformat_minor": 5
}
