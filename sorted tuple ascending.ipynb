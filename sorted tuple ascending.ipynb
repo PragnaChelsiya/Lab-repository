{
 "cells": [
  {
   "cell_type": "code",
   "execution_count": 1,
   "id": "1c9adc93-9af7-480a-9f53-5511efcf5198",
   "metadata": {},
   "outputs": [
    {
     "name": "stdout",
     "output_type": "stream",
     "text": [
      "Original list1: [(2, 5), (1, 2), (4, 4), (2, 3)]\n",
      "Sorted list1: [(1, 2), (2, 3), (4, 4), (2, 5)]\n",
      "Original list2: [(2, 5), (1, 2), (4, 4)]\n",
      "Sorted list2: [(1, 2), (4, 4), (2, 5)]\n"
     ]
    }
   ],
   "source": [
    "# Function to sort a list of tuples by the last element in each tuple\n",
    "def sort_tuples_by_last_element(lst):\n",
    "    # Sorting using the key that accesses the last element of each tuple\n",
    "    sorted_list = sorted(lst, key = lambda x: x[-1])\n",
    "    return sorted_list\n",
    "\n",
    "# Sample input\n",
    "sample_input_1 = [(2, 5), (1, 2), (4, 4), (2, 3)]\n",
    "sample_input_2 = [(2,5),(1,2),(4,4)]\n",
    "\n",
    "# Sort the sample input\n",
    "sorted_list1= sort_tuples_by_last_element(sample_input_1)\n",
    "sorted_list2= sort_tuples_by_last_element(sample_input_2)\n",
    "\n",
    "# Print the results\n",
    "print(\"Original list1:\", sample_input_1)\n",
    "print(\"Sorted list1:\", sorted_list1)\n",
    "print(\"Original list2:\", sample_input_2)\n",
    "print(\"Sorted list2:\", sorted_list2)"
   ]
  },
  {
   "cell_type": "code",
   "execution_count": null,
   "id": "73325eb5-9f39-4736-a2d2-9453a526275b",
   "metadata": {},
   "outputs": [],
   "source": []
  }
 ],
 "metadata": {
  "kernelspec": {
   "display_name": "Python 3 (ipykernel)",
   "language": "python",
   "name": "python3"
  },
  "language_info": {
   "codemirror_mode": {
    "name": "ipython",
    "version": 3
   },
   "file_extension": ".py",
   "mimetype": "text/x-python",
   "name": "python",
   "nbconvert_exporter": "python",
   "pygments_lexer": "ipython3",
   "version": "3.12.4"
  }
 },
 "nbformat": 4,
 "nbformat_minor": 5
}
