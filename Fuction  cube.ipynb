{
 "cells": [
  {
   "cell_type": "code",
   "execution_count": 3,
   "id": "9f55b405-b5a0-4e8c-972d-b6f640bf9694",
   "metadata": {},
   "outputs": [
    {
     "name": "stdin",
     "output_type": "stream",
     "text": [
      "Enter a number to find its cube:  10\n"
     ]
    },
    {
     "name": "stdout",
     "output_type": "stream",
     "text": [
      "1000\n"
     ]
    }
   ],
   "source": [
    "def cube_of_number(num):\n",
    "    return num ** 3\n",
    "    \n",
    "num= int(input(\"Enter a number to find its cube: \"))\n",
    "\n",
    "print(cube_of_number(num))"
   ]
  },
  {
   "cell_type": "code",
   "execution_count": null,
   "id": "545f8f82-5de2-4f28-b00d-d56c271f9cca",
   "metadata": {},
   "outputs": [],
   "source": []
  }
 ],
 "metadata": {
  "kernelspec": {
   "display_name": "Python 3 (ipykernel)",
   "language": "python",
   "name": "python3"
  },
  "language_info": {
   "codemirror_mode": {
    "name": "ipython",
    "version": 3
   },
   "file_extension": ".py",
   "mimetype": "text/x-python",
   "name": "python",
   "nbconvert_exporter": "python",
   "pygments_lexer": "ipython3",
   "version": "3.12.4"
  }
 },
 "nbformat": 4,
 "nbformat_minor": 5
}
